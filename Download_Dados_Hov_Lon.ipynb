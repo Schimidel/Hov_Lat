{
 "cells": [
  {
   "cell_type": "code",
   "execution_count": null,
   "id": "6a3023fd",
   "metadata": {},
   "outputs": [],
   "source": [
    "#Importação das bibliotecas\n",
    "import gcsfs \n",
    "import intake\n",
    "import xarray as xr\n",
    "import pandas as pd\n",
    "import cftime\n",
    "import geopandas as gpd\n",
    "import regionmask\n",
    "import re\n",
    "import numpy as np\n",
    "import fiona\n",
    "import xesmf as xe\n",
    "fiona.drvsupport.supported_drivers['KML'] = 'rw'"
   ]
  },
  {
   "cell_type": "code",
   "execution_count": null,
   "id": "4293a032",
   "metadata": {},
   "outputs": [],
   "source": [
    "#Níveis do WOA para comparação: \n",
    "new_levels = [0.00e+00, 5.00e+00, 1.00e+01, 1.50e+01, 2.00e+01, 2.50e+01,\n",
    "       3.00e+01, 3.50e+01, 4.00e+01, 4.50e+01, 5.00e+01, 5.50e+01,\n",
    "       6.00e+01, 6.50e+01, 7.00e+01, 7.50e+01, 8.00e+01, 8.50e+01,\n",
    "       9.00e+01, 9.50e+01, 1.00e+02, 1.25e+02, 1.50e+02, 1.75e+02,\n",
    "       2.00e+02, 2.25e+02, 2.50e+02, 2.75e+02, 3.00e+02, 3.25e+02,\n",
    "       3.50e+02, 3.75e+02, 4.00e+02, 4.25e+02, 4.50e+02, 4.75e+02,\n",
    "       5.00e+02, 5.50e+02, 6.00e+02, 6.50e+02, 7.00e+02, 7.50e+02,\n",
    "       8.00e+02, 8.50e+02, 9.00e+02, 9.50e+02, 1.00e+03, 1.05e+03,\n",
    "       1.10e+03, 1.15e+03, 1.20e+03, 1.25e+03, 1.30e+03, 1.35e+03,\n",
    "       1.40e+03, 1.45e+03, 1.50e+03, 1.55e+03, 1.60e+03, 1.65e+03,\n",
    "       1.70e+03, 1.75e+03, 1.80e+03, 1.85e+03, 1.90e+03, 1.95e+03,\n",
    "       2.00e+03, 2.10e+03, 2.20e+03, 2.30e+03, 2.40e+03, 2.50e+03,\n",
    "       2.60e+03, 2.70e+03, 2.80e+03, 2.90e+03, 3.00e+03, 3.10e+03,\n",
    "       3.20e+03, 3.30e+03, 3.40e+03, 3.50e+03, 3.60e+03, 3.70e+03,\n",
    "       3.80e+03, 3.90e+03, 4.00e+03, 4.10e+03, 4.20e+03, 4.30e+03,\n",
    "       4.40e+03, 4.50e+03, 4.60e+03, 4.70e+03, 4.80e+03, 4.90e+03,\n",
    "       5.00e+03, 5.10e+03, 5.20e+03, 5.30e+03, 5.40e+03, 5.50e+03]\n"
   ]
  },
  {
   "cell_type": "code",
   "execution_count": null,
   "id": "9c396be1",
   "metadata": {},
   "outputs": [],
   "source": [
    "#Função para acertar a variável tempo! Pois alguns formatos disponiveis no CMIP6 para a variável time dificultam sua manipulação. \n",
    "def to_360day_monthly(da):\n",
    "    ''' Conversão da dimensão de tempo de modelos climáticos.\n",
    "        Função criada por Claire Carouge no CLEX CMS Blog'''\n",
    "    val = da.copy()\n",
    "    time1 = da.time.copy()\n",
    "    for itime in range(val.sizes['time']):\n",
    "        bb = val.time.values[itime].timetuple()\n",
    "        time1.values[itime] = cftime.Datetime360Day(bb[0],bb[1],16)\n",
    "    val = val.assign_coords({'time':time1})\n",
    "    return val\n",
    "\n",
    "#Função que converte a profundidade de centímetros para metro.\n",
    "def depth_m(ds):\n",
    "    if \"lev\" in ds:\n",
    "        if \"units\" in ds[\"lev\"].attrs:\n",
    "            units = ds[\"lev\"].units.lower()\n",
    "            if units == \"cm\" or units == \"centimeters\":\n",
    "                ds[\"lev\"] = ds[\"lev\"] / 100\n",
    "                ds[\"lev\"].attrs[\"units\"] = \"m\"\n",
    "    return ds"
   ]
  },
  {
   "cell_type": "code",
   "execution_count": null,
   "id": "a72e3e3c",
   "metadata": {},
   "outputs": [],
   "source": [
    "#Acessa o conjunto de metadados do CMIP6 hospedados no Google Cloud.\n",
    "cmip6 = intake.open_esm_datastore(\"https://storage.googleapis.com/cmip6/pangeo-cmip6.json\")"
   ]
  },
  {
   "cell_type": "code",
   "execution_count": null,
   "id": "b3f82d1f",
   "metadata": {},
   "outputs": [],
   "source": [
    "#Lendo a minha Tabela de Modelo.\n",
    "#Verifique o caminho, no meu jupyter lab está tudo na mesma pasta.\n",
    "df = pd.read_excel(\"Tabela_Modelos/Tabela_Modelos.xlsx\", sheet_name=1)\n",
    "df = df.rename(columns = lambda x : x.strip())"
   ]
  },
  {
   "cell_type": "code",
   "execution_count": null,
   "id": "23acf55d",
   "metadata": {},
   "outputs": [],
   "source": [
    "gdf = gpd.read_file('Area_Projeto/Regiao_Juntas/Regiao_Juntas.shp')"
   ]
  },
  {
   "cell_type": "code",
   "execution_count": null,
   "id": "f1074b7d",
   "metadata": {},
   "outputs": [],
   "source": [
    "#Realiza minha pesquisa de acordo com a minha Tabela de Modelos\n",
    "pesquisas = []\n",
    "for index, row in df.iterrows():\n",
    "    pesquisa = {'source_id': row['source_id'],\n",
    "                'table_id': row['table_id'],\n",
    "                'variable_id': row['variable_id'].split(', '),\n",
    "                'experiment_id': row['experiment_id'],\n",
    "                'member_id': row['member_id']}\n",
    "    pesquisas.append(pesquisa)"
   ]
  },
  {
   "cell_type": "code",
   "execution_count": null,
   "id": "71ced63e",
   "metadata": {},
   "outputs": [],
   "source": [
    "import pandas as pd\n",
    "\n",
    "for pesquisa in pesquisas:\n",
    "    cat = cmip6.search(require_all_on='source_id', **pesquisa)\n",
    "    cat = cat.to_dataset_dict(aggregate=True,\n",
    "                              storage_options={'token': 'anon'},\n",
    "                              xarray_open_kwargs={'consolidated': True,\n",
    "                                                 'decode_times': True,\n",
    "                                                 'use_cftime': True})\n",
    "    \n",
    "    # Variável para armazenar o dataset\n",
    "    ds = None\n",
    "\n",
    "    # Iterar sobre as chaves da lista\n",
    "    for key in list(cat.keys()):\n",
    "        # Verificar se a chave termina com \"gr\"\n",
    "        if key.endswith(\"gr\"):\n",
    "            ds = cat[key]\n",
    "            break  # Se encontrou \"gr\", não é necessário continuar procurando\n",
    "\n",
    "    # Se \"gr\" não foi encontrado, ds ficará com o último valor atribuído no loop\n",
    "    # Se nenhum valor termina com \"gr\", ds ficará com o último valor terminado com \"gn\"\n",
    "    if ds is None:\n",
    "        for key in list(cat.keys()):\n",
    "            if key.endswith(\"gn\"):\n",
    "                ds = cat[key]\n",
    "                break  # Se encontrou \"gn\", não é necessário continuar procurando\n",
    "\n",
    "    #Converte o time para o formato correto.\n",
    "    ds = ds[[\"thetao\", \"so\"]].squeeze()\n",
    "    \n",
    "    if \"gn\" in ds.grid_label:\n",
    "        ds_out = xr.Dataset(\n",
    "            {\n",
    "                \"lat\" : ([\"lat\"], np.arange(-90, 90, 1.0)),\n",
    "                \"lon\" : ([\"lon\"], np.arange(-180, 180, 1.0)),\n",
    "            }\n",
    "        )\n",
    "\n",
    "        regridder = xe.Regridder(ds, ds_out, \"bilinear\", ignore_degenerate=True)\n",
    "        ds_out = regridder(ds, keep_attrs = True)\n",
    "    \n",
    "    else:\n",
    "        ds_out = ds\n",
    "    \n",
    "    #Renomeia olevel para level\n",
    "    ds_out = rename_coords(ds_out)\n",
    "    \n",
    "    # Interpolação vertical usando interpolação linear\n",
    "    ds_interp = ds_out.interp(lev=new_levels, method='linear')\n",
    "    \n",
    "    #Converte o GeoDataFrame para um objeto region mask\n",
    "    mask = regionmask.mask_geopandas(gdf, ds_interp['lon'], ds_interp['lat'])\n",
    "\n",
    "    #Aplica a máscara ao dataset\n",
    "    ds_masked = ds_interp.where(mask==mask, drop=True)\n",
    "    \n",
    "    ds_lat = ds_masked.mean(dim=\"lon\")\n",
    "    \n",
    "    ds_lat.to_netcdf(\"Hov_Lat/{}.nc\".format(key))"
   ]
  },
  {
   "cell_type": "code",
   "execution_count": null,
   "id": "25e9ced3",
   "metadata": {},
   "outputs": [],
   "source": []
  }
 ],
 "metadata": {
  "kernelspec": {
   "display_name": "Python 3 (ipykernel)",
   "language": "python",
   "name": "python3"
  },
  "language_info": {
   "codemirror_mode": {
    "name": "ipython",
    "version": 3
   },
   "file_extension": ".py",
   "mimetype": "text/x-python",
   "name": "python",
   "nbconvert_exporter": "python",
   "pygments_lexer": "ipython3",
   "version": "3.9.18"
  }
 },
 "nbformat": 4,
 "nbformat_minor": 5
}
